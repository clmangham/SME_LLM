{
 "cells": [
  {
   "cell_type": "markdown",
   "metadata": {},
   "source": [
    "### Get top papers"
   ]
  },
  {
   "cell_type": "code",
   "execution_count": 79,
   "metadata": {},
   "outputs": [],
   "source": [
    "import requests\n",
    "from bs4 import BeautifulSoup\n",
    "import re\n",
    "\n",
    "# URL you want to scrape\n",
    "url = \"https://paperswithcode.com/\"\n",
    "\n",
    "# Make an HTTP GET request to the URL\n",
    "response = requests.get(url)\n",
    "\n",
    "# Ensure the request was successful (HTTP status code 200)\n",
    "if response.status_code == 200:\n",
    "    # Parse the HTML content of the page using Beautiful Soup\n",
    "    soup = BeautifulSoup(response.text, \"html.parser\")\n",
    "\n",
    "    # Now you can use Beautiful Soup methods to find data in the soup object\n",
    "    # For example, to find all 'a' tags (hyperlinks) in the document:\n",
    "    links = soup.find_all(\"a\")\n",
    "\n",
    "    pattern = r\"\\/paper\\/(?!.*(#code|#tasks)$).*$\"\n",
    "    unique_papers = []\n",
    "\n",
    "    for link in links:\n",
    "        href = link.get(\"href\")\n",
    "        # Check if the href attribute is a string and if it matches the pattern\n",
    "        if isinstance(href, str) and re.search(pattern, href):\n",
    "            # If the link is not already in the list, add it\n",
    "            if href not in unique_papers:\n",
    "                unique_papers.append(href)\n",
    "\n",
    "    # Now, unique_papers contains all unique links that include \"/paper/\"\n",
    "else:\n",
    "    print(f\"Failed to retrieve the webpage: HTTP {response.status_code}\")\n",
    "\n",
    "\n",
    "paper_urls = []            \n",
    "for paper in unique_papers:\n",
    "    paper_urls.append('https://paperswithcode.com' + paper)"
   ]
  },
  {
   "cell_type": "code",
   "execution_count": 80,
   "metadata": {},
   "outputs": [
    {
     "data": {
      "text/plain": [
       "['https://paperswithcode.com/paper/yolov9-learning-what-you-want-to-learn-using',\n",
       " 'https://paperswithcode.com/paper/scalable-diffusion-models-with-transformers',\n",
       " 'https://paperswithcode.com/paper/neural-network-diffusion',\n",
       " 'https://paperswithcode.com/paper/intent-based-prompt-calibration-enhancing',\n",
       " 'https://paperswithcode.com/paper/gaussianobject-just-taking-four-images-to-get',\n",
       " 'https://paperswithcode.com/paper/ufo-a-ui-focused-agent-for-windows-os',\n",
       " 'https://paperswithcode.com/paper/cleaner-pretraining-corpus-curation-with',\n",
       " 'https://paperswithcode.com/paper/fit-flexible-vision-transformer-for-diffusion',\n",
       " 'https://paperswithcode.com/paper/yolo-world-real-time-open-vocabulary-object',\n",
       " 'https://paperswithcode.com/paper/revisiting-feature-prediction-for-learning']"
      ]
     },
     "execution_count": 80,
     "metadata": {},
     "output_type": "execute_result"
    }
   ],
   "source": [
    "paper_urls"
   ]
  },
  {
   "cell_type": "markdown",
   "metadata": {},
   "source": [
    "### Get each paper from arxiv"
   ]
  },
  {
   "cell_type": "code",
   "execution_count": 89,
   "metadata": {},
   "outputs": [
    {
     "name": "stdout",
     "output_type": "stream",
     "text": [
      "https://arxiv.org/pdf/2402.13616v1.pdf\n"
     ]
    }
   ],
   "source": [
    "# URL you want to scrape\n",
    "url = \"https://paperswithcode.com/paper/yolov9-learning-what-you-want-to-learn-using\"\n",
    "\n",
    "# Make an HTTP GET request to the URL\n",
    "response = requests.get(url)\n",
    "\n",
    "if response.status_code == 200:\n",
    "    # Parse the HTML content of the page using Beautiful Soup\n",
    "    soup = BeautifulSoup(response.text, 'html.parser')\n",
    "\n",
    "    # Define a function that checks if an 'a' tag's 'href' attribute contains the arXiv PDF URL\n",
    "    def is_arxiv_pdf(tag):\n",
    "        return tag.name == 'a' and tag.get('href') and 'https://arxiv.org/pdf' in tag.get('href')\n",
    "\n",
    "    # Use the function to filter 'a' tags\n",
    "    links = soup.find_all(is_arxiv_pdf)\n",
    "    \n",
    "    # Print the 'href' attribute of each link\n",
    "    for link in links:\n",
    "        print(link.get('href'))\n",
    "else:\n",
    "    print(f\"Failed to retrieve the webpage: HTTP {response.status_code}\")"
   ]
  },
  {
   "cell_type": "markdown",
   "metadata": {},
   "source": []
  },
  {
   "cell_type": "code",
   "execution_count": 92,
   "metadata": {},
   "outputs": [
    {
     "data": {
      "text/plain": [
       "'https://arxiv.org/pdf/2402.13616v1.pdf'"
      ]
     },
     "execution_count": 92,
     "metadata": {},
     "output_type": "execute_result"
    }
   ],
   "source": [
    "link.get('href')"
   ]
  },
  {
   "cell_type": "code",
   "execution_count": null,
   "metadata": {},
   "outputs": [],
   "source": []
  }
 ],
 "metadata": {
  "kernelspec": {
   "display_name": "SME_LLM",
   "language": "python",
   "name": "python3"
  },
  "language_info": {
   "codemirror_mode": {
    "name": "ipython",
    "version": 3
   },
   "file_extension": ".py",
   "mimetype": "text/x-python",
   "name": "python",
   "nbconvert_exporter": "python",
   "pygments_lexer": "ipython3",
   "version": "3.10.13"
  }
 },
 "nbformat": 4,
 "nbformat_minor": 2
}
