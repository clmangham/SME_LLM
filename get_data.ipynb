{
 "cells": [
  {
   "cell_type": "code",
   "execution_count": null,
   "metadata": {},
   "outputs": [],
   "source": [
    "# pip install beautifulsoup4 requests\n",
    "``"
   ]
  },
  {
   "cell_type": "code",
   "execution_count": null,
   "metadata": {},
   "outputs": [],
   "source": [
    "import requests\n",
    "from bs4 import BeautifulSoup\n",
    "\n",
    "# URL you want to scrape\n",
    "url = \"http://example.com\"\n",
    "\n",
    "# Make an HTTP GET request to the URL\n",
    "response = requests.get(url)\n",
    "\n",
    "# Ensure the request was successful (HTTP status code 200)\n",
    "if response.status_code == 200:\n",
    "    # Parse the HTML content of the page using Beautiful Soup\n",
    "    soup = BeautifulSoup(response.text, \"html.parser\")\n",
    "\n",
    "    # Now you can use Beautiful Soup methods to find data in the soup object\n",
    "    # For example, to find all 'a' tags (hyperlinks) in the document:\n",
    "    links = soup.find_all(\"a\")\n",
    "\n",
    "    for link in links:\n",
    "        print(link.get(\"href\"))  # Print the 'href' attribute of each link\n",
    "else:\n",
    "    print(f\"Failed to retrieve the webpage: HTTP {response.status_code}\")\n",
    "\n",
    "# This is a very basic example. Beautiful Soup is very powerful and can be used\n",
    "# to navigate and search the parse tree in sophisticated ways."
   ]
  }
 ],
 "metadata": {
  "language_info": {
   "name": "python"
  }
 },
 "nbformat": 4,
 "nbformat_minor": 2
}
